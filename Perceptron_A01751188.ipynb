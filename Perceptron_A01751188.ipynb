{
  "nbformat": 4,
  "nbformat_minor": 0,
  "metadata": {
    "colab": {
      "provenance": [],
      "collapsed_sections": []
    },
    "kernelspec": {
      "name": "python3",
      "display_name": "Python 3"
    },
    "language_info": {
      "name": "python"
    }
  },
  "cells": [
    {
      "cell_type": "markdown",
      "source": [
        "# Perceptrón\n",
        "\n",
        "Luis Eduardo Gonzalez Quiroz, A01751188"
      ],
      "metadata": {
        "id": "IUqXasrRQLuO"
      }
    },
    {
      "cell_type": "markdown",
      "source": [
        "Importamos las bibliotecas que usaremos."
      ],
      "metadata": {
        "id": "gWXnfXcdM_H9"
      }
    },
    {
      "cell_type": "code",
      "execution_count": null,
      "metadata": {
        "id": "TCppe6__IdyL"
      },
      "outputs": [],
      "source": [
        "from sklearn import datasets\n",
        "import matplotlib.pyplot as plt\n",
        "import numpy as np\n",
        "\n",
        "%matplotlib inline"
      ]
    },
    {
      "cell_type": "markdown",
      "source": [
        "Definimos nuestra función Perceptrón."
      ],
      "metadata": {
        "id": "quCbGuGUNJ-1"
      }
    },
    {
      "cell_type": "code",
      "source": [
        "def perceptron(X, Y, lr, epochs):\n",
        "    # No de samples\n",
        "    n = X.shape[1]\n",
        "\n",
        "    # Inicializamos array de pesos con n elementos, mas un bias\n",
        "    W = np.zeros((n+1,1))\n",
        "    \n",
        "    # Iteramos por cada epoch\n",
        "    for epoch in range(epochs):\n",
        "        # Iteramos por cada sample\n",
        "        for idx, x_i in enumerate(X):\n",
        "            \n",
        "            x_i = np.insert(x_i, 0, 1).reshape(-1, 1)\n",
        "            \n",
        "            # Calc hipotesis.\n",
        "            z = np.dot(x_i.T, W)\n",
        "            y_hat = (1 / (1 + np.exp(-z)))\n",
        "            \n",
        "            # Actualizar pesos si hipotesis es incorrecta.\n",
        "            if (np.squeeze(y_hat) != Y[idx]):\n",
        "                W += lr*((Y[idx] - y_hat)*x_i)\n",
        "    return W"
      ],
      "metadata": {
        "id": "dEOT-hADNUob"
      },
      "execution_count": null,
      "outputs": []
    },
    {
      "cell_type": "markdown",
      "source": [
        "Con esta función calculamos el accuracy de nuestro modelo con el subset de testing."
      ],
      "metadata": {
        "id": "AsxWwOiWNL5V"
      }
    },
    {
      "cell_type": "code",
      "source": [
        "def calc_accuracy(X, Y):\n",
        "    correct_count = 0\n",
        "    for i_sample, x_i in enumerate(X):\n",
        "        x0 = x_i[1]\n",
        "        x1 = x_i[0]\n",
        "        z = (x0)*(W[0]) + (x1)*(W[1]) + W[2]\n",
        "        y_pred = (1 / (1 + np.exp(-z)))\n",
        "        if(round(y_pred[0]) == Y[i_sample]):\n",
        "            correct_count += 1\n",
        "    accuracy = correct_count*100/(i_sample+1)\n",
        "    return accuracy"
      ],
      "metadata": {
        "id": "m-dJNzf-25vO"
      },
      "execution_count": null,
      "outputs": []
    },
    {
      "cell_type": "markdown",
      "source": [
        "Función para graficar el hiperplano definido por nuestro Perceptrón."
      ],
      "metadata": {
        "id": "9UYuEHWnNbXe"
      }
    },
    {
      "cell_type": "code",
      "source": [
        "def plot_decision_boundary(X, W):\n",
        "    x1 = [min(X[:,0]), max(X[:,0])]\n",
        "    m = -W[1]/W[2]\n",
        "    c = -W[0]/W[2]\n",
        "    x2 = m*x1 + c\n",
        "    \n",
        "    fig = plt.figure(figsize=(10,8))\n",
        "    plt.plot(X[:, 0][Y==0], X[:, 1][Y==0], \"r^\")\n",
        "    plt.plot(X[:, 0][Y==1], X[:, 1][Y==1], \"bs\")\n",
        "    plt.xlabel(\"feature 1\")\n",
        "    plt.ylabel(\"feature 2\")\n",
        "    plt.title('Perceptrón')\n",
        "    plt.plot(x1, x2, 'g-')"
      ],
      "metadata": {
        "id": "IxNGVVwzBBUW"
      },
      "execution_count": null,
      "outputs": []
    },
    {
      "cell_type": "markdown",
      "source": [
        "Se genera el dataset con dos features por cada sample, y 250 samples distribuidos en dos centroides con una desviación estandar de 1.05"
      ],
      "metadata": {
        "id": "gFweGgHzNhKy"
      }
    },
    {
      "cell_type": "code",
      "source": [
        "N_SAMPLES = 250\n",
        "X, Y = datasets.make_blobs(n_samples=N_SAMPLES,n_features=2,centers=2,cluster_std=1.05,random_state=3)"
      ],
      "metadata": {
        "id": "AbxxdPG2MoNw"
      },
      "execution_count": null,
      "outputs": []
    },
    {
      "cell_type": "code",
      "source": [
        "fig = plt.figure(figsize=(10,8))\n",
        "plt.plot(X[:, 0][Y == 0], X[:, 1][Y == 0], 'r^')\n",
        "plt.plot(X[:, 0][Y == 1], X[:, 1][Y == 1], 'bs')\n",
        "plt.xlabel(\"feature 1\")\n",
        "plt.ylabel(\"feature 2\")\n",
        "plt.title('Clasificacion aleatoria con dos clases')"
      ],
      "metadata": {
        "colab": {
          "base_uri": "https://localhost:8080/",
          "height": 531
        },
        "id": "YlCk5AKeO3cW",
        "outputId": "1edc4308-f0f0-4a46-96c5-5ea85b22a0d7"
      },
      "execution_count": null,
      "outputs": [
        {
          "output_type": "execute_result",
          "data": {
            "text/plain": [
              "Text(0.5, 1.0, 'Clasificacion aleatoria con dos clases')"
            ]
          },
          "metadata": {},
          "execution_count": 7
        },
        {
          "output_type": "display_data",
          "data": {
            "text/plain": [
              "<Figure size 720x576 with 1 Axes>"
            ],
            "image/png": "[encoded data removed]"
          },
          "metadata": {
            "needs_background": "light"
          }
        }
      ]
    },
    {
      "cell_type": "markdown",
      "source": [
        "Probamos diferentes epochs para entrenar nuestro modelo, y utilizamos validación cruzada para validar el accuracy de nuestro modelo."
      ],
      "metadata": {
        "id": "Cc5Q8jGqOQBl"
      }
    },
    {
      "cell_type": "code",
      "source": [
        "N_PARTITIONS = 10\n",
        "\n",
        "lista_avg_accuracy_epochs = []\n",
        "for epochs in range(0, 101, 10):\n",
        "    epochs = epochs if epochs != 0 else 1\n",
        "    DIV = round(N_SAMPLES/N_PARTITIONS)\n",
        "    lista_accuracy_tests = []\n",
        "    for i, lower_limit in enumerate(range(1, N_SAMPLES, DIV)):\n",
        "        upper_limit = lower_limit + DIV - 1\n",
        "        X_TRAIN = np.concatenate((X[:lower_limit-1], X[upper_limit:]), axis = 0)\n",
        "        Y_TRAIN = np.concatenate((Y[:lower_limit-1], Y[upper_limit:]), axis = 0)\n",
        "        X_TEST = X[lower_limit-1:upper_limit]\n",
        "        Y_TEST = Y[lower_limit-1:upper_limit]\n",
        "\n",
        "        W = perceptron(X_TRAIN, Y_TRAIN, 0.5, epochs)\n",
        "\n",
        "        accuracy = round(calc_accuracy(X_TEST, Y_TEST), 2)\n",
        "        lista_accuracy_tests.append(accuracy)\n",
        "        #print(f\"Test {i+1}: Accuracy = {accuracy}%\\n\")\n",
        "\n",
        "    avg_accuracy = round(sum(lista_accuracy_tests)/N_PARTITIONS, 2)\n",
        "    lista_avg_accuracy_epochs.append(avg_accuracy)\n",
        "    print(f\"Accuracy promedio con {epochs} epochs = {avg_accuracy}%\\n\")"
      ],
      "metadata": {
        "colab": {
          "base_uri": "https://localhost:8080/"
        },
        "id": "leJs9yPEd7eQ",
        "outputId": "0e3290e3-5897-4d9e-ea89-8f697da49606"
      },
      "execution_count": null,
      "outputs": [
        {
          "output_type": "stream",
          "name": "stdout",
          "text": [
            "Accuracy promedio con 1 epochs = 97.2%\n",
            "\n",
            "Accuracy promedio con 10 epochs = 96.4%\n",
            "\n",
            "Accuracy promedio con 20 epochs = 94.8%\n",
            "\n",
            "Accuracy promedio con 30 epochs = 93.2%\n",
            "\n",
            "Accuracy promedio con 40 epochs = 92.8%\n",
            "\n",
            "Accuracy promedio con 50 epochs = 92.8%\n",
            "\n",
            "Accuracy promedio con 60 epochs = 92.8%\n",
            "\n",
            "Accuracy promedio con 70 epochs = 92.0%\n",
            "\n",
            "Accuracy promedio con 80 epochs = 92.0%\n",
            "\n",
            "Accuracy promedio con 90 epochs = 92.0%\n",
            "\n",
            "Accuracy promedio con 100 epochs = 92.0%\n",
            "\n"
          ]
        }
      ]
    },
    {
      "cell_type": "markdown",
      "source": [
        "Graficamos el accuracy del modelo con diferentes epochs durante entrenamiento"
      ],
      "metadata": {
        "id": "L9BaInusOTwM"
      }
    },
    {
      "cell_type": "code",
      "source": [
        "plt.figure(figsize=(12,6))\n",
        "X_axis = np.arange(len(np.array(lista_avg_accuracy_epochs)))\n",
        "ax = plt.gca()\n",
        "plt.ylim(90, 100)\n",
        "plt.bar(X_axis, np.array(np.array(lista_avg_accuracy_epochs)), 0.4, color='black', label='Accuracy')\n",
        "plt.xticks(X_axis, range(1,len(np.array(lista_avg_accuracy_epochs))+1))\n",
        "plt.xlabel(\"Epochs\", fontsize=14)\n",
        "plt.ylabel(\"Accuracy\", fontsize=14)\n",
        "plt.legend()\n",
        "plt.show()"
      ],
      "metadata": {
        "colab": {
          "base_uri": "https://localhost:8080/",
          "height": 396
        },
        "id": "qMwY5LpJVgAp",
        "outputId": "443762d5-973f-422d-f7ea-c816fcc9ed0a"
      },
      "execution_count": null,
      "outputs": [
        {
          "output_type": "display_data",
          "data": {
            "text/plain": [
              "<Figure size 864x432 with 1 Axes>"
            ],
            "image/png": "[encoded data removed]"
          },
          "metadata": {
            "needs_background": "light"
          }
        }
      ]
    },
    {
      "cell_type": "markdown",
      "source": [
        "Utilizamos un epoch=1 para entrenar nuestro modelo (pues fue el que tuvo mejor desempeño)."
      ],
      "metadata": {
        "id": "8xEhgg1ROrlm"
      }
    },
    {
      "cell_type": "code",
      "source": [
        "epochs = 1\n",
        "DIV = round(N_SAMPLES/N_PARTITIONS)\n",
        "lista_accuracy_tests = []\n",
        "for i, lower_limit in enumerate(range(1, N_SAMPLES, DIV)):\n",
        "    upper_limit = lower_limit + DIV - 1\n",
        "    X_TRAIN = np.concatenate((X[:lower_limit-1], X[upper_limit:]), axis = 0)\n",
        "    Y_TRAIN = np.concatenate((Y[:lower_limit-1], Y[upper_limit:]), axis = 0)\n",
        "    X_TEST = X[lower_limit-1:upper_limit]\n",
        "    Y_TEST = Y[lower_limit-1:upper_limit]\n",
        "\n",
        "    W = perceptron(X_TRAIN, Y_TRAIN, 0.5, epochs)\n",
        "\n",
        "    accuracy = round(calc_accuracy(X_TEST, Y_TEST), 2)\n",
        "    lista_accuracy_tests.append(accuracy)\n",
        "    print(f\"K-Fold {i+1}: Accuracy = {accuracy}%\\n\")"
      ],
      "metadata": {
        "colab": {
          "base_uri": "https://localhost:8080/"
        },
        "id": "BKgUoJ2jcKil",
        "outputId": "754ead2c-396a-462b-d0f7-1fa11abe49b0"
      },
      "execution_count": null,
      "outputs": [
        {
          "output_type": "stream",
          "name": "stdout",
          "text": [
            "K-Fold 1: Accuracy = 96.0%\n",
            "\n",
            "K-Fold 2: Accuracy = 100.0%\n",
            "\n",
            "K-Fold 3: Accuracy = 96.0%\n",
            "\n",
            "K-Fold 4: Accuracy = 96.0%\n",
            "\n",
            "K-Fold 5: Accuracy = 96.0%\n",
            "\n",
            "K-Fold 6: Accuracy = 100.0%\n",
            "\n",
            "K-Fold 7: Accuracy = 100.0%\n",
            "\n",
            "K-Fold 8: Accuracy = 88.0%\n",
            "\n",
            "K-Fold 9: Accuracy = 100.0%\n",
            "\n",
            "K-Fold 10: Accuracy = 100.0%\n",
            "\n"
          ]
        }
      ]
    },
    {
      "cell_type": "markdown",
      "source": [
        "Graficamos la variación entre cada K-Fold de nuestra validación cruzada."
      ],
      "metadata": {
        "id": "pp5HO_dmPrwb"
      }
    },
    {
      "cell_type": "code",
      "source": [
        "plt.figure(figsize=(12,6))\n",
        "X_axis = np.arange(len(np.array(lista_accuracy_tests)))\n",
        "ax = plt.gca()\n",
        "plt.ylim(70, 100)\n",
        "plt.bar(X_axis, np.array(np.array(lista_accuracy_tests)), 0.4, color='black', label='Accuracy')\n",
        "plt.xticks(X_axis, range(1,len(np.array(lista_accuracy_tests))+1))\n",
        "plt.xlabel(\"K-Fold\", fontsize=14)\n",
        "plt.ylabel(\"Accuracy (%)\", fontsize=14)\n",
        "plt.legend()\n",
        "plt.show()"
      ],
      "metadata": {
        "colab": {
          "base_uri": "https://localhost:8080/",
          "height": 396
        },
        "id": "ZYEEGZ9-cgb7",
        "outputId": "382c61a7-f9e7-4a81-e0f7-f9e9e221c134"
      },
      "execution_count": null,
      "outputs": [
        {
          "output_type": "display_data",
          "data": {
            "text/plain": [
              "<Figure size 864x432 with 1 Axes>"
            ],
            "image/png": "[encoded data removed]"
          },
          "metadata": {
            "needs_background": "light"
          }
        }
      ]
    },
    {
      "cell_type": "markdown",
      "source": [
        "Resultados finales de nuestro modelo:"
      ],
      "metadata": {
        "id": "Sg655zHGPzYh"
      }
    },
    {
      "cell_type": "code",
      "source": [
        "lista_accuracy_tests_np = np.array(lista_accuracy_tests)\n",
        "x_mean= lista_accuracy_tests_np.mean()\n",
        "sum_x = 0\n",
        "for x_i in lista_accuracy_tests_np:\n",
        "    sum_x += (x_i - x_mean)**2\n",
        "std_dev = np.sqrt(sum_x/(len(lista_accuracy_tests_np)-1))\n",
        "variance = std_dev**2\n",
        "\n",
        "print(f\"Accuracy promedio: {lista_accuracy_tests_np.mean()}%\")\n",
        "print(f\"Desviación estandar: {std_dev:.5}\")\n",
        "print(f\"Varianza: {variance:.4}\")"
      ],
      "metadata": {
        "colab": {
          "base_uri": "https://localhost:8080/"
        },
        "id": "fV3L9jXsd7Fm",
        "outputId": "d027440b-9754-49b2-a7a5-5003235431b4"
      },
      "execution_count": null,
      "outputs": [
        {
          "output_type": "stream",
          "name": "stdout",
          "text": [
            "Accuracy promedio: 97.2%\n",
            "Desviación estandar: 3.7947\n",
            "Varianza: 14.4\n"
          ]
        }
      ]
    },
    {
      "cell_type": "markdown",
      "source": [
        "Grafico con hiperplano generado por nuestro Perceptrón dividiendo nuestro dataset.\n",
        "\n",
        "Nótese que en general el hiperplano es bastante bueno en dividir ambos grupos, sin embargo algúnos de ellos sí se muestran erroneamente clasificados."
      ],
      "metadata": {
        "id": "0XjDDu0fP40M"
      }
    },
    {
      "cell_type": "code",
      "source": [
        "plot_decision_boundary(X, W)"
      ],
      "metadata": {
        "colab": {
          "base_uri": "https://localhost:8080/",
          "height": 513
        },
        "id": "fjFlMura0lPU",
        "outputId": "b8567368-5914-4de6-8f14-742ac6e805be"
      },
      "execution_count": null,
      "outputs": [
        {
          "output_type": "display_data",
          "data": {
            "text/plain": [
              "<Figure size 720x576 with 1 Axes>"
            ],
            "image/png": "[encoded data removed]"
          },
          "metadata": {
            "needs_background": "light"
          }
        }
      ]
    }
  ]
}